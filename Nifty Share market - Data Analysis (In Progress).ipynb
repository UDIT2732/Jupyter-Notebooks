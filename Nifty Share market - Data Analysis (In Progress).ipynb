{
 "cells": [
  {
   "cell_type": "markdown",
   "id": "3cc44589",
   "metadata": {},
   "source": [
    "# Nifty Stocks Analysis:\n",
    "\n"
   ]
  },
  {
   "cell_type": "markdown",
   "id": "a08ff0dc",
   "metadata": {},
   "source": [
    "## Table of Contents\n",
    "\n",
    "- [Raw data](#Raw-data:)\n",
    "    - [Entity Relationship Diagram](#Entity-Relationship-Diagram)\n",
    "    - [Sample Data](#Sample-Data)\n",
    "- [Data Integration](#Data-Integration:)\n",
    "- [Data Cleaning](#Data-Cleaning:)\n",
    "- [Data Analysis Questions](#A.-Customer-Journey)"
   ]
  },
  {
   "cell_type": "markdown",
   "id": "1dd669b2",
   "metadata": {},
   "source": [
    "## Raw data:\n",
    "\n",
    "- **The dataset have 53 tables**: \n",
    "    - 50 tables for 50 stocks of Nifty.\n",
    "    - 1 Info table that contains some information about the stocks.\n",
    "    - 1 stock split table. A share split, also known as a stock split, is a corporate action that increases the number of shares outstanding while proportionally decreasing the price per share. <br/><br/>\n",
    "- **Useful information about Stocks table**: The following columns collectively provide valuable information about the price, volume, and trading activity of individual stocks on specific trading days.\n",
    "    - Date: The date of the trading day for which the data is recorded. It indicates when the stock market transactions took place.\n",
    "\n",
    "    - Symbol: the unique symbol or ticker symbol assigned to each specific stock. The symbol is used to identify and track the performance of a particular company's stock.\n",
    "\n",
    "    - Series: The series or category of the stock. It could be categorized as equity shares, preference shares, or any other specific type of security.\n",
    "\n",
    "    - Prev Close: The closing price of the stock on the previous trading day. It represents the price at which the stock last traded before the current trading day.\n",
    "\n",
    "    - Open: The opening price of the stock at the beginning of the trading day.\n",
    "\n",
    "    - High: The highest price reached by the stock during the trading day.\n",
    "\n",
    "    - Low: The lowest price reached by the stock during the trading day.\n",
    "\n",
    "    - Last: The price at which the stock last traded during the trading day.\n",
    "\n",
    "    - Close: The closing price of the stock at the end of the trading day.\n",
    "\n",
    "    - VWAP (Volume Weighted Average Price): The average price at which a particular stock has been traded throughout the trading day, taking into account the volume of shares traded at each price level.\n",
    "\n",
    "    - Volume: The total number of shares traded for the specific stock on the trading day.\n",
    "\n",
    "    - Turnover: The total value of all the shares traded for the specific stock on the trading day.\n",
    "\n",
    "    - Trades: The total number of trades executed for the specific stock on the trading day.\n",
    "\n",
    "    - Deliverable Volume: The volume of shares that were actually delivered (bought or sold) by the participants in the market during the trading day.\n",
    "\n",
    "    - %Deliverble: The percentage of the total traded volume that corresponds to the deliverable volume. It provides an indication of how much of the total volume traded actually resulted in the physical delivery of shares."
   ]
  },
  {
   "cell_type": "markdown",
   "id": "8ccb302a",
   "metadata": {},
   "source": [
    "### Entity Relationship Diagram\n",
    "\n",
    "![convert notebook to web app](https://drive.google.com/uc?id=1IvmkxpIKCCMmGY-v1Im5pUb_Tf8NOxHO)"
   ]
  },
  {
   "cell_type": "markdown",
   "id": "7ad0f4ff",
   "metadata": {},
   "source": [
    "### Sample Data"
   ]
  },
  {
   "cell_type": "markdown",
   "id": "e504775c",
   "metadata": {},
   "source": [
    "#### Adani Ports Share"
   ]
  },
  {
   "cell_type": "code",
   "execution_count": 14,
   "id": "49692392",
   "metadata": {},
   "outputs": [
    {
     "data": {
      "text/html": [
       "<div>\n",
       "<style scoped>\n",
       "    .dataframe tbody tr th:only-of-type {\n",
       "        vertical-align: middle;\n",
       "    }\n",
       "\n",
       "    .dataframe tbody tr th {\n",
       "        vertical-align: top;\n",
       "    }\n",
       "\n",
       "    .dataframe thead th {\n",
       "        text-align: right;\n",
       "    }\n",
       "</style>\n",
       "<table border=\"1\" class=\"dataframe\">\n",
       "  <thead>\n",
       "    <tr style=\"text-align: right;\">\n",
       "      <th></th>\n",
       "      <th>Date</th>\n",
       "      <th>Symbol</th>\n",
       "      <th>Series</th>\n",
       "      <th>Prev Close</th>\n",
       "      <th>Open</th>\n",
       "      <th>High</th>\n",
       "      <th>Low</th>\n",
       "      <th>Last</th>\n",
       "      <th>Close</th>\n",
       "      <th>VWAP</th>\n",
       "      <th>Volume</th>\n",
       "      <th>Turnover</th>\n",
       "      <th>Trades</th>\n",
       "      <th>Deliverable Volume</th>\n",
       "      <th>%Deliverble</th>\n",
       "    </tr>\n",
       "  </thead>\n",
       "  <tbody>\n",
       "    <tr>\n",
       "      <th>3317</th>\n",
       "      <td>2021-04-26</td>\n",
       "      <td>ADANIPORTS</td>\n",
       "      <td>EQ</td>\n",
       "      <td>725.35</td>\n",
       "      <td>733.0</td>\n",
       "      <td>739.65</td>\n",
       "      <td>728.90</td>\n",
       "      <td>729.2</td>\n",
       "      <td>730.75</td>\n",
       "      <td>733.25</td>\n",
       "      <td>9390549</td>\n",
       "      <td>6.885658e+14</td>\n",
       "      <td>116457.0</td>\n",
       "      <td>838079</td>\n",
       "      <td>0.0892</td>\n",
       "    </tr>\n",
       "    <tr>\n",
       "      <th>3318</th>\n",
       "      <td>2021-04-27</td>\n",
       "      <td>ADANIPORTS</td>\n",
       "      <td>EQ</td>\n",
       "      <td>730.75</td>\n",
       "      <td>735.0</td>\n",
       "      <td>757.50</td>\n",
       "      <td>727.35</td>\n",
       "      <td>748.6</td>\n",
       "      <td>749.15</td>\n",
       "      <td>747.67</td>\n",
       "      <td>20573107</td>\n",
       "      <td>1.538191e+15</td>\n",
       "      <td>236896.0</td>\n",
       "      <td>1779639</td>\n",
       "      <td>0.0865</td>\n",
       "    </tr>\n",
       "    <tr>\n",
       "      <th>3319</th>\n",
       "      <td>2021-04-28</td>\n",
       "      <td>ADANIPORTS</td>\n",
       "      <td>EQ</td>\n",
       "      <td>749.15</td>\n",
       "      <td>755.0</td>\n",
       "      <td>760.00</td>\n",
       "      <td>741.10</td>\n",
       "      <td>743.4</td>\n",
       "      <td>746.25</td>\n",
       "      <td>751.02</td>\n",
       "      <td>11156977</td>\n",
       "      <td>8.379106e+14</td>\n",
       "      <td>130847.0</td>\n",
       "      <td>1342353</td>\n",
       "      <td>0.1203</td>\n",
       "    </tr>\n",
       "    <tr>\n",
       "      <th>3320</th>\n",
       "      <td>2021-04-29</td>\n",
       "      <td>ADANIPORTS</td>\n",
       "      <td>EQ</td>\n",
       "      <td>746.25</td>\n",
       "      <td>753.2</td>\n",
       "      <td>765.85</td>\n",
       "      <td>743.40</td>\n",
       "      <td>746.4</td>\n",
       "      <td>746.75</td>\n",
       "      <td>753.06</td>\n",
       "      <td>13851910</td>\n",
       "      <td>1.043139e+15</td>\n",
       "      <td>153293.0</td>\n",
       "      <td>1304895</td>\n",
       "      <td>0.0942</td>\n",
       "    </tr>\n",
       "    <tr>\n",
       "      <th>3321</th>\n",
       "      <td>2021-04-30</td>\n",
       "      <td>ADANIPORTS</td>\n",
       "      <td>EQ</td>\n",
       "      <td>746.75</td>\n",
       "      <td>739.0</td>\n",
       "      <td>759.45</td>\n",
       "      <td>724.50</td>\n",
       "      <td>726.4</td>\n",
       "      <td>730.05</td>\n",
       "      <td>743.35</td>\n",
       "      <td>12600934</td>\n",
       "      <td>9.366911e+14</td>\n",
       "      <td>132141.0</td>\n",
       "      <td>3514692</td>\n",
       "      <td>0.2789</td>\n",
       "    </tr>\n",
       "  </tbody>\n",
       "</table>\n",
       "</div>"
      ],
      "text/plain": [
       "            Date      Symbol Series  Prev Close   Open    High     Low   Last  \\\n",
       "3317  2021-04-26  ADANIPORTS     EQ      725.35  733.0  739.65  728.90  729.2   \n",
       "3318  2021-04-27  ADANIPORTS     EQ      730.75  735.0  757.50  727.35  748.6   \n",
       "3319  2021-04-28  ADANIPORTS     EQ      749.15  755.0  760.00  741.10  743.4   \n",
       "3320  2021-04-29  ADANIPORTS     EQ      746.25  753.2  765.85  743.40  746.4   \n",
       "3321  2021-04-30  ADANIPORTS     EQ      746.75  739.0  759.45  724.50  726.4   \n",
       "\n",
       "       Close    VWAP    Volume      Turnover    Trades  Deliverable Volume  \\\n",
       "3317  730.75  733.25   9390549  6.885658e+14  116457.0              838079   \n",
       "3318  749.15  747.67  20573107  1.538191e+15  236896.0             1779639   \n",
       "3319  746.25  751.02  11156977  8.379106e+14  130847.0             1342353   \n",
       "3320  746.75  753.06  13851910  1.043139e+15  153293.0             1304895   \n",
       "3321  730.05  743.35  12600934  9.366911e+14  132141.0             3514692   \n",
       "\n",
       "      %Deliverble  \n",
       "3317       0.0892  \n",
       "3318       0.0865  \n",
       "3319       0.1203  \n",
       "3320       0.0942  \n",
       "3321       0.2789  "
      ]
     },
     "execution_count": 14,
     "metadata": {},
     "output_type": "execute_result"
    }
   ],
   "source": [
    "import pandas as pd\n",
    "import matplotlib.pyplot as plt\n",
    "pd.read_csv('C:\\\\Users\\\\A222401\\\\OneDrive - Syneos Health\\\\Desktop\\\\Udit\\\\Data\\\\Nifty Project\\\\Nifty Stocks\\\\ADANIPORTS.csv').tail()"
   ]
  },
  {
   "cell_type": "markdown",
   "id": "cd39d449",
   "metadata": {},
   "source": [
    "#### Category Table"
   ]
  },
  {
   "cell_type": "code",
   "execution_count": 4,
   "id": "bc8382be",
   "metadata": {},
   "outputs": [
    {
     "data": {
      "text/html": [
       "<div>\n",
       "<style scoped>\n",
       "    .dataframe tbody tr th:only-of-type {\n",
       "        vertical-align: middle;\n",
       "    }\n",
       "\n",
       "    .dataframe tbody tr th {\n",
       "        vertical-align: top;\n",
       "    }\n",
       "\n",
       "    .dataframe thead th {\n",
       "        text-align: right;\n",
       "    }\n",
       "</style>\n",
       "<table border=\"1\" class=\"dataframe\">\n",
       "  <thead>\n",
       "    <tr style=\"text-align: right;\">\n",
       "      <th></th>\n",
       "      <th>Company Name</th>\n",
       "      <th>Industry</th>\n",
       "      <th>Symbol</th>\n",
       "      <th>Series</th>\n",
       "      <th>ISIN Code</th>\n",
       "    </tr>\n",
       "  </thead>\n",
       "  <tbody>\n",
       "    <tr>\n",
       "      <th>0</th>\n",
       "      <td>Adani Ports and Special Economic Zone Ltd.</td>\n",
       "      <td>SERVICES</td>\n",
       "      <td>ADANIPORTS</td>\n",
       "      <td>EQ</td>\n",
       "      <td>INE742F01042</td>\n",
       "    </tr>\n",
       "    <tr>\n",
       "      <th>1</th>\n",
       "      <td>Asian Paints Ltd.</td>\n",
       "      <td>CONSUMER GOODS</td>\n",
       "      <td>ASIANPAINT</td>\n",
       "      <td>EQ</td>\n",
       "      <td>INE021A01026</td>\n",
       "    </tr>\n",
       "    <tr>\n",
       "      <th>2</th>\n",
       "      <td>Axis Bank Ltd.</td>\n",
       "      <td>FINANCIAL SERVICES</td>\n",
       "      <td>AXISBANK</td>\n",
       "      <td>EQ</td>\n",
       "      <td>INE238A01034</td>\n",
       "    </tr>\n",
       "    <tr>\n",
       "      <th>3</th>\n",
       "      <td>Bajaj Auto Ltd.</td>\n",
       "      <td>AUTOMOBILE</td>\n",
       "      <td>BAJAJ-AUTO</td>\n",
       "      <td>EQ</td>\n",
       "      <td>INE917I01010</td>\n",
       "    </tr>\n",
       "    <tr>\n",
       "      <th>4</th>\n",
       "      <td>Bajaj Finserv Ltd.</td>\n",
       "      <td>FINANCIAL SERVICES</td>\n",
       "      <td>BAJAJFINSV</td>\n",
       "      <td>EQ</td>\n",
       "      <td>INE918I01018</td>\n",
       "    </tr>\n",
       "  </tbody>\n",
       "</table>\n",
       "</div>"
      ],
      "text/plain": [
       "                                 Company Name            Industry      Symbol  \\\n",
       "0  Adani Ports and Special Economic Zone Ltd.            SERVICES  ADANIPORTS   \n",
       "1                           Asian Paints Ltd.      CONSUMER GOODS  ASIANPAINT   \n",
       "2                              Axis Bank Ltd.  FINANCIAL SERVICES    AXISBANK   \n",
       "3                             Bajaj Auto Ltd.          AUTOMOBILE  BAJAJ-AUTO   \n",
       "4                          Bajaj Finserv Ltd.  FINANCIAL SERVICES  BAJAJFINSV   \n",
       "\n",
       "  Series     ISIN Code  \n",
       "0     EQ  INE742F01042  \n",
       "1     EQ  INE021A01026  \n",
       "2     EQ  INE238A01034  \n",
       "3     EQ  INE917I01010  \n",
       "4     EQ  INE918I01018  "
      ]
     },
     "execution_count": 4,
     "metadata": {},
     "output_type": "execute_result"
    }
   ],
   "source": [
    "category = pd.read_csv('C:\\\\Users\\\\A222401\\\\OneDrive - Syneos Health\\\\Desktop\\\\Udit\\\\Data\\\\Nifty Project\\\\stock_metadata.csv')\n",
    "category.head()"
   ]
  },
  {
   "cell_type": "markdown",
   "id": "7236967b",
   "metadata": {},
   "source": [
    "#### Stock Split Table"
   ]
  },
  {
   "cell_type": "code",
   "execution_count": 77,
   "id": "6194400c",
   "metadata": {},
   "outputs": [
    {
     "data": {
      "text/html": [
       "<div>\n",
       "<style scoped>\n",
       "    .dataframe tbody tr th:only-of-type {\n",
       "        vertical-align: middle;\n",
       "    }\n",
       "\n",
       "    .dataframe tbody tr th {\n",
       "        vertical-align: top;\n",
       "    }\n",
       "\n",
       "    .dataframe thead th {\n",
       "        text-align: right;\n",
       "    }\n",
       "</style>\n",
       "<table border=\"1\" class=\"dataframe\">\n",
       "  <thead>\n",
       "    <tr style=\"text-align: right;\">\n",
       "      <th></th>\n",
       "      <th>Split date</th>\n",
       "      <th>Company</th>\n",
       "      <th>Split ratio</th>\n",
       "    </tr>\n",
       "  </thead>\n",
       "  <tbody>\n",
       "    <tr>\n",
       "      <th>0</th>\n",
       "      <td>Jul 08, 2022</td>\n",
       "      <td>Torrent Pharma (TORP)</td>\n",
       "      <td>2:1</td>\n",
       "    </tr>\n",
       "    <tr>\n",
       "      <th>1</th>\n",
       "      <td>Jun 30, 2022</td>\n",
       "      <td>Indian Oil (IOC)</td>\n",
       "      <td>1.5:1</td>\n",
       "    </tr>\n",
       "    <tr>\n",
       "      <th>2</th>\n",
       "      <td>Jan 06, 2022</td>\n",
       "      <td>SBI Gold (SBIG)</td>\n",
       "      <td>100:1</td>\n",
       "    </tr>\n",
       "    <tr>\n",
       "      <th>3</th>\n",
       "      <td>NaN</td>\n",
       "      <td>SBI Gold (SBIG)</td>\n",
       "      <td>100:1</td>\n",
       "    </tr>\n",
       "    <tr>\n",
       "      <th>4</th>\n",
       "      <td>Dec 16, 2021</td>\n",
       "      <td>Quantum Gold (QTGF)</td>\n",
       "      <td>50:1</td>\n",
       "    </tr>\n",
       "  </tbody>\n",
       "</table>\n",
       "</div>"
      ],
      "text/plain": [
       "     Split date                 Company Split ratio\n",
       "0  Jul 08, 2022   Torrent Pharma (TORP)         2:1\n",
       "1  Jun 30, 2022        Indian Oil (IOC)       1.5:1\n",
       "2  Jan 06, 2022         SBI Gold (SBIG)       100:1\n",
       "3           NaN         SBI Gold (SBIG)       100:1\n",
       "4  Dec 16, 2021     Quantum Gold (QTGF)        50:1"
      ]
     },
     "execution_count": 77,
     "metadata": {},
     "output_type": "execute_result"
    }
   ],
   "source": [
    "stock_split = pd.read_excel('C:\\\\Users\\\\A222401\\\\OneDrive - Syneos Health\\\\Desktop\\\\Udit\\\\Data\\\\Nifty Project\\\\stock_split_data.xlsx')\n",
    "stock_split.head()"
   ]
  },
  {
   "cell_type": "markdown",
   "id": "699a22d1",
   "metadata": {},
   "source": [
    "## Data Integration:"
   ]
  },
  {
   "cell_type": "markdown",
   "id": "a6086c86",
   "metadata": {},
   "source": [
    "#### Appending 50 csv files of 50 stocks in 1 dataframe"
   ]
  },
  {
   "cell_type": "code",
   "execution_count": 5,
   "id": "2072abe8",
   "metadata": {},
   "outputs": [],
   "source": [
    "import pathlib\n",
    "\n",
    "folder_path = pathlib.Path(r\"C:\\\\Users\\\\A222401\\\\OneDrive - Syneos Health\\\\Desktop\\\\Udit\\\\Data\\\\Nifty Project\\\\Nifty Stocks\\\\\")\n",
    "csv_files = folder_path.glob(\"*.csv\")\n",
    "df = pd.concat((pd.read_csv(csv_file) for csv_file in csv_files))"
   ]
  },
  {
   "cell_type": "code",
   "execution_count": 6,
   "id": "27935247",
   "metadata": {},
   "outputs": [],
   "source": [
    "df.reset_index(inplace = True,drop=True)"
   ]
  },
  {
   "cell_type": "code",
   "execution_count": 7,
   "id": "ffb5611b",
   "metadata": {},
   "outputs": [
    {
     "data": {
      "text/plain": [
       "470384"
      ]
     },
     "execution_count": 7,
     "metadata": {},
     "output_type": "execute_result"
    }
   ],
   "source": [
    "len(df)  #Number of total rows"
   ]
  },
  {
   "cell_type": "markdown",
   "id": "de482ab4",
   "metadata": {},
   "source": [
    "[Back to top](#Danny's-Diner-Case-Study:)"
   ]
  },
  {
   "cell_type": "markdown",
   "id": "6a136721",
   "metadata": {},
   "source": [
    "## Data Cleaning:"
   ]
  },
  {
   "cell_type": "markdown",
   "id": "19d11354",
   "metadata": {},
   "source": [
    "- Column Data types: Changing Date column from object to datetime\n",
    "- Handling Null values\n",
    "- Transforming Data\n",
    "- Removing duplicate rows"
   ]
  },
  {
   "cell_type": "code",
   "execution_count": 8,
   "id": "794c0b8a",
   "metadata": {},
   "outputs": [
    {
     "data": {
      "text/plain": [
       "Date                   object\n",
       "Symbol                 object\n",
       "Series                 object\n",
       "Prev Close            float64\n",
       "Open                  float64\n",
       "High                  float64\n",
       "Low                   float64\n",
       "Last                  float64\n",
       "Close                 float64\n",
       "VWAP                  float64\n",
       "Volume                  int64\n",
       "Turnover              float64\n",
       "Trades                float64\n",
       "Deliverable Volume    float64\n",
       "%Deliverble           float64\n",
       "dtype: object"
      ]
     },
     "execution_count": 8,
     "metadata": {},
     "output_type": "execute_result"
    }
   ],
   "source": [
    "df.dtypes"
   ]
  },
  {
   "cell_type": "code",
   "execution_count": 9,
   "id": "84c67a82",
   "metadata": {},
   "outputs": [
    {
     "data": {
      "text/plain": [
       "Date                  datetime64[ns]\n",
       "Symbol                        object\n",
       "Series                        object\n",
       "Prev Close                   float64\n",
       "Open                         float64\n",
       "High                         float64\n",
       "Low                          float64\n",
       "Last                         float64\n",
       "Close                        float64\n",
       "VWAP                         float64\n",
       "Volume                         int64\n",
       "Turnover                     float64\n",
       "Trades                       float64\n",
       "Deliverable Volume           float64\n",
       "%Deliverble                  float64\n",
       "dtype: object"
      ]
     },
     "execution_count": 9,
     "metadata": {},
     "output_type": "execute_result"
    }
   ],
   "source": [
    "df['Date'] = pd.to_datetime(df['Date'])\n",
    "df.dtypes #Date Column now has data type datetime"
   ]
  },
  {
   "cell_type": "code",
   "execution_count": 73,
   "id": "ed36cde0",
   "metadata": {},
   "outputs": [
    {
     "data": {
      "text/plain": [
       "Split date     object\n",
       "Company        object\n",
       "Split ratio    object\n",
       "Symbol         object\n",
       "dtype: object"
      ]
     },
     "execution_count": 73,
     "metadata": {},
     "output_type": "execute_result"
    }
   ],
   "source": [
    "stock_split.dtypes"
   ]
  },
  {
   "cell_type": "code",
   "execution_count": 91,
   "id": "5345e408",
   "metadata": {},
   "outputs": [
    {
     "data": {
      "text/plain": [
       "Split date     datetime64[ns]\n",
       "Company                object\n",
       "Split ratio            object\n",
       "Symbol                 object\n",
       "dtype: object"
      ]
     },
     "execution_count": 91,
     "metadata": {},
     "output_type": "execute_result"
    }
   ],
   "source": [
    "stock_split['Split date'] = pd.to_datetime(stock_split['Split date'])\n",
    "stock_split.dtypes"
   ]
  },
  {
   "cell_type": "markdown",
   "id": "063f373d",
   "metadata": {},
   "source": [
    "\n",
    "<div style=\"background-color: #FFFFE0;\">\n",
    "    The date columns of both the tables have been converted into correct data type.\n",
    "</div>"
   ]
  },
  {
   "cell_type": "code",
   "execution_count": 23,
   "id": "ab923430",
   "metadata": {
    "scrolled": true
   },
   "outputs": [
    {
     "data": {
      "text/plain": [
       "Date                  False\n",
       "Symbol                False\n",
       "Series                False\n",
       "Prev Close            False\n",
       "Open                  False\n",
       "High                  False\n",
       "Low                   False\n",
       "Last                  False\n",
       "Close                 False\n",
       "VWAP                  False\n",
       "Volume                False\n",
       "Turnover              False\n",
       "Trades                 True\n",
       "Deliverable Volume     True\n",
       "%Deliverble            True\n",
       "dtype: bool"
      ]
     },
     "execution_count": 23,
     "metadata": {},
     "output_type": "execute_result"
    }
   ],
   "source": [
    "df.isnull().any()"
   ]
  },
  {
   "cell_type": "markdown",
   "id": "4ff40e35",
   "metadata": {},
   "source": [
    "\n",
    "<div style=\"background-color: #FFFFE0;\">\n",
    "    Trades column can be null because for some reasons the trading gets blocked by the firms, hence no need to clean the df table.\n",
    "</div>"
   ]
  },
  {
   "cell_type": "code",
   "execution_count": 78,
   "id": "c3846fbf",
   "metadata": {},
   "outputs": [
    {
     "data": {
      "text/plain": [
       "Split date      True\n",
       "Company        False\n",
       "Split ratio    False\n",
       "dtype: bool"
      ]
     },
     "execution_count": 78,
     "metadata": {},
     "output_type": "execute_result"
    }
   ],
   "source": [
    "stock_split.isnull().any()"
   ]
  },
  {
   "cell_type": "code",
   "execution_count": 79,
   "id": "a115dcda",
   "metadata": {
    "scrolled": true
   },
   "outputs": [
    {
     "data": {
      "text/html": [
       "<div>\n",
       "<style scoped>\n",
       "    .dataframe tbody tr th:only-of-type {\n",
       "        vertical-align: middle;\n",
       "    }\n",
       "\n",
       "    .dataframe tbody tr th {\n",
       "        vertical-align: top;\n",
       "    }\n",
       "\n",
       "    .dataframe thead th {\n",
       "        text-align: right;\n",
       "    }\n",
       "</style>\n",
       "<table border=\"1\" class=\"dataframe\">\n",
       "  <thead>\n",
       "    <tr style=\"text-align: right;\">\n",
       "      <th></th>\n",
       "      <th>Split date</th>\n",
       "      <th>Company</th>\n",
       "      <th>Split ratio</th>\n",
       "    </tr>\n",
       "  </thead>\n",
       "  <tbody>\n",
       "    <tr>\n",
       "      <th>0</th>\n",
       "      <td>Jul 08, 2022</td>\n",
       "      <td>Torrent Pharma (TORP)</td>\n",
       "      <td>2:1</td>\n",
       "    </tr>\n",
       "    <tr>\n",
       "      <th>1</th>\n",
       "      <td>Jun 30, 2022</td>\n",
       "      <td>Indian Oil (IOC)</td>\n",
       "      <td>1.5:1</td>\n",
       "    </tr>\n",
       "    <tr>\n",
       "      <th>2</th>\n",
       "      <td>Jan 06, 2022</td>\n",
       "      <td>SBI Gold (SBIG)</td>\n",
       "      <td>100:1</td>\n",
       "    </tr>\n",
       "    <tr>\n",
       "      <th>3</th>\n",
       "      <td>NaN</td>\n",
       "      <td>SBI Gold (SBIG)</td>\n",
       "      <td>100:1</td>\n",
       "    </tr>\n",
       "    <tr>\n",
       "      <th>4</th>\n",
       "      <td>Dec 16, 2021</td>\n",
       "      <td>Quantum Gold (QTGF)</td>\n",
       "      <td>50:1</td>\n",
       "    </tr>\n",
       "    <tr>\n",
       "      <th>5</th>\n",
       "      <td>NaN</td>\n",
       "      <td>Quantum Gold Exchange Traded Scheme (QTGF)</td>\n",
       "      <td>50:1</td>\n",
       "    </tr>\n",
       "    <tr>\n",
       "      <th>6</th>\n",
       "      <td>Nov 25, 2021</td>\n",
       "      <td>Aditya Birla Sun Life Banking (ADIL)</td>\n",
       "      <td>10:1</td>\n",
       "    </tr>\n",
       "    <tr>\n",
       "      <th>7</th>\n",
       "      <td>NaN</td>\n",
       "      <td>Aditya Birla Sun Life Banking (ADIL)</td>\n",
       "      <td>10:1</td>\n",
       "    </tr>\n",
       "    <tr>\n",
       "      <th>8</th>\n",
       "      <td>NaN</td>\n",
       "      <td>Aditya Birla Sun Life Nifty 50 (ADIY)</td>\n",
       "      <td>10:1</td>\n",
       "    </tr>\n",
       "    <tr>\n",
       "      <th>9</th>\n",
       "      <td>NaN</td>\n",
       "      <td>Aditya Birla Sun Life Nifty 50 (ADIY)</td>\n",
       "      <td>10:1</td>\n",
       "    </tr>\n",
       "  </tbody>\n",
       "</table>\n",
       "</div>"
      ],
      "text/plain": [
       "     Split date                                      Company Split ratio\n",
       "0  Jul 08, 2022                        Torrent Pharma (TORP)         2:1\n",
       "1  Jun 30, 2022                             Indian Oil (IOC)       1.5:1\n",
       "2  Jan 06, 2022                              SBI Gold (SBIG)       100:1\n",
       "3           NaN                              SBI Gold (SBIG)       100:1\n",
       "4  Dec 16, 2021                          Quantum Gold (QTGF)        50:1\n",
       "5           NaN   Quantum Gold Exchange Traded Scheme (QTGF)        50:1\n",
       "6  Nov 25, 2021         Aditya Birla Sun Life Banking (ADIL)        10:1\n",
       "7           NaN         Aditya Birla Sun Life Banking (ADIL)        10:1\n",
       "8           NaN        Aditya Birla Sun Life Nifty 50 (ADIY)        10:1\n",
       "9           NaN        Aditya Birla Sun Life Nifty 50 (ADIY)        10:1"
      ]
     },
     "execution_count": 79,
     "metadata": {},
     "output_type": "execute_result"
    }
   ],
   "source": [
    "stock_split.head(10) #Only the date column has null values. And those too should have the first previous non-blank value."
   ]
  },
  {
   "cell_type": "code",
   "execution_count": 80,
   "id": "c5aeb69e",
   "metadata": {
    "scrolled": true
   },
   "outputs": [
    {
     "data": {
      "text/html": [
       "<div>\n",
       "<style scoped>\n",
       "    .dataframe tbody tr th:only-of-type {\n",
       "        vertical-align: middle;\n",
       "    }\n",
       "\n",
       "    .dataframe tbody tr th {\n",
       "        vertical-align: top;\n",
       "    }\n",
       "\n",
       "    .dataframe thead th {\n",
       "        text-align: right;\n",
       "    }\n",
       "</style>\n",
       "<table border=\"1\" class=\"dataframe\">\n",
       "  <thead>\n",
       "    <tr style=\"text-align: right;\">\n",
       "      <th></th>\n",
       "      <th>Split date</th>\n",
       "      <th>Company</th>\n",
       "      <th>Split ratio</th>\n",
       "    </tr>\n",
       "  </thead>\n",
       "  <tbody>\n",
       "    <tr>\n",
       "      <th>0</th>\n",
       "      <td>Jul 08, 2022</td>\n",
       "      <td>Torrent Pharma (TORP)</td>\n",
       "      <td>2:1</td>\n",
       "    </tr>\n",
       "    <tr>\n",
       "      <th>1</th>\n",
       "      <td>Jun 30, 2022</td>\n",
       "      <td>Indian Oil (IOC)</td>\n",
       "      <td>1.5:1</td>\n",
       "    </tr>\n",
       "    <tr>\n",
       "      <th>2</th>\n",
       "      <td>Jan 06, 2022</td>\n",
       "      <td>SBI Gold (SBIG)</td>\n",
       "      <td>100:1</td>\n",
       "    </tr>\n",
       "    <tr>\n",
       "      <th>3</th>\n",
       "      <td>Jan 06, 2022</td>\n",
       "      <td>SBI Gold (SBIG)</td>\n",
       "      <td>100:1</td>\n",
       "    </tr>\n",
       "    <tr>\n",
       "      <th>4</th>\n",
       "      <td>Dec 16, 2021</td>\n",
       "      <td>Quantum Gold (QTGF)</td>\n",
       "      <td>50:1</td>\n",
       "    </tr>\n",
       "    <tr>\n",
       "      <th>5</th>\n",
       "      <td>Dec 16, 2021</td>\n",
       "      <td>Quantum Gold Exchange Traded Scheme (QTGF)</td>\n",
       "      <td>50:1</td>\n",
       "    </tr>\n",
       "    <tr>\n",
       "      <th>6</th>\n",
       "      <td>Nov 25, 2021</td>\n",
       "      <td>Aditya Birla Sun Life Banking (ADIL)</td>\n",
       "      <td>10:1</td>\n",
       "    </tr>\n",
       "    <tr>\n",
       "      <th>7</th>\n",
       "      <td>Nov 25, 2021</td>\n",
       "      <td>Aditya Birla Sun Life Banking (ADIL)</td>\n",
       "      <td>10:1</td>\n",
       "    </tr>\n",
       "    <tr>\n",
       "      <th>8</th>\n",
       "      <td>Nov 25, 2021</td>\n",
       "      <td>Aditya Birla Sun Life Nifty 50 (ADIY)</td>\n",
       "      <td>10:1</td>\n",
       "    </tr>\n",
       "    <tr>\n",
       "      <th>9</th>\n",
       "      <td>Nov 25, 2021</td>\n",
       "      <td>Aditya Birla Sun Life Nifty 50 (ADIY)</td>\n",
       "      <td>10:1</td>\n",
       "    </tr>\n",
       "  </tbody>\n",
       "</table>\n",
       "</div>"
      ],
      "text/plain": [
       "     Split date                                      Company Split ratio\n",
       "0  Jul 08, 2022                        Torrent Pharma (TORP)         2:1\n",
       "1  Jun 30, 2022                             Indian Oil (IOC)       1.5:1\n",
       "2  Jan 06, 2022                              SBI Gold (SBIG)       100:1\n",
       "3  Jan 06, 2022                              SBI Gold (SBIG)       100:1\n",
       "4  Dec 16, 2021                          Quantum Gold (QTGF)        50:1\n",
       "5  Dec 16, 2021   Quantum Gold Exchange Traded Scheme (QTGF)        50:1\n",
       "6  Nov 25, 2021         Aditya Birla Sun Life Banking (ADIL)        10:1\n",
       "7  Nov 25, 2021         Aditya Birla Sun Life Banking (ADIL)        10:1\n",
       "8  Nov 25, 2021        Aditya Birla Sun Life Nifty 50 (ADIY)        10:1\n",
       "9  Nov 25, 2021        Aditya Birla Sun Life Nifty 50 (ADIY)        10:1"
      ]
     },
     "execution_count": 80,
     "metadata": {},
     "output_type": "execute_result"
    }
   ],
   "source": [
    "stock_split['Split date'] = stock_split['Split date'].fillna(method='ffill')\n",
    "\n",
    "stock_split.head(10)"
   ]
  },
  {
   "cell_type": "markdown",
   "id": "51091b2d",
   "metadata": {},
   "source": [
    "\n",
    "<div style=\"background-color: #FFFFE0;\">\n",
    "    Now the date column does not have null values.\n",
    "</div>"
   ]
  },
  {
   "cell_type": "code",
   "execution_count": 51,
   "id": "d9a2ff87",
   "metadata": {},
   "outputs": [
    {
     "data": {
      "text/html": [
       "<div>\n",
       "<style scoped>\n",
       "    .dataframe tbody tr th:only-of-type {\n",
       "        vertical-align: middle;\n",
       "    }\n",
       "\n",
       "    .dataframe tbody tr th {\n",
       "        vertical-align: top;\n",
       "    }\n",
       "\n",
       "    .dataframe thead th {\n",
       "        text-align: right;\n",
       "    }\n",
       "</style>\n",
       "<table border=\"1\" class=\"dataframe\">\n",
       "  <thead>\n",
       "    <tr style=\"text-align: right;\">\n",
       "      <th></th>\n",
       "      <th>Split date</th>\n",
       "      <th>Company</th>\n",
       "      <th>Split ratio</th>\n",
       "      <th>Symbol</th>\n",
       "    </tr>\n",
       "  </thead>\n",
       "  <tbody>\n",
       "    <tr>\n",
       "      <th>0</th>\n",
       "      <td>Jul 08, 2022</td>\n",
       "      <td>Torrent Pharma (TORP)</td>\n",
       "      <td>2:1</td>\n",
       "      <td>TORP</td>\n",
       "    </tr>\n",
       "    <tr>\n",
       "      <th>1</th>\n",
       "      <td>Jun 30, 2022</td>\n",
       "      <td>Indian Oil (IOC)</td>\n",
       "      <td>1.5:1</td>\n",
       "      <td>IOC</td>\n",
       "    </tr>\n",
       "    <tr>\n",
       "      <th>2</th>\n",
       "      <td>Jan 06, 2022</td>\n",
       "      <td>SBI Gold (SBIG)</td>\n",
       "      <td>100:1</td>\n",
       "      <td>SBIG</td>\n",
       "    </tr>\n",
       "    <tr>\n",
       "      <th>3</th>\n",
       "      <td>Jan 06, 2022</td>\n",
       "      <td>SBI Gold (SBIG)</td>\n",
       "      <td>100:1</td>\n",
       "      <td>SBIG</td>\n",
       "    </tr>\n",
       "    <tr>\n",
       "      <th>4</th>\n",
       "      <td>Dec 16, 2021</td>\n",
       "      <td>Quantum Gold (QTGF)</td>\n",
       "      <td>50:1</td>\n",
       "      <td>QTGF</td>\n",
       "    </tr>\n",
       "  </tbody>\n",
       "</table>\n",
       "</div>"
      ],
      "text/plain": [
       "     Split date                 Company Split ratio Symbol\n",
       "0  Jul 08, 2022   Torrent Pharma (TORP)         2:1   TORP\n",
       "1  Jun 30, 2022        Indian Oil (IOC)       1.5:1    IOC\n",
       "2  Jan 06, 2022         SBI Gold (SBIG)       100:1   SBIG\n",
       "3  Jan 06, 2022         SBI Gold (SBIG)       100:1   SBIG\n",
       "4  Dec 16, 2021     Quantum Gold (QTGF)        50:1   QTGF"
      ]
     },
     "execution_count": 51,
     "metadata": {},
     "output_type": "execute_result"
    }
   ],
   "source": [
    "stock_split['Symbol'] = stock_split['Company'].str.extract('\\((.*?)\\)')\n",
    "\n",
    "stock_split.head()"
   ]
  },
  {
   "cell_type": "markdown",
   "id": "4b886133",
   "metadata": {},
   "source": [
    "\n",
    "<div style=\"background-color: #FFFFE0;\">\n",
    "    Extracted the Symbols from Company column.\n",
    "</div>"
   ]
  },
  {
   "cell_type": "code",
   "execution_count": 86,
   "id": "bc9b87b0",
   "metadata": {},
   "outputs": [
    {
     "data": {
      "text/html": [
       "<div>\n",
       "<style scoped>\n",
       "    .dataframe tbody tr th:only-of-type {\n",
       "        vertical-align: middle;\n",
       "    }\n",
       "\n",
       "    .dataframe tbody tr th {\n",
       "        vertical-align: top;\n",
       "    }\n",
       "\n",
       "    .dataframe thead th {\n",
       "        text-align: right;\n",
       "    }\n",
       "</style>\n",
       "<table border=\"1\" class=\"dataframe\">\n",
       "  <thead>\n",
       "    <tr style=\"text-align: right;\">\n",
       "      <th></th>\n",
       "      <th>Split date</th>\n",
       "      <th>Company</th>\n",
       "      <th>Split ratio</th>\n",
       "    </tr>\n",
       "  </thead>\n",
       "  <tbody>\n",
       "    <tr>\n",
       "      <th>0</th>\n",
       "      <td>Jul 08, 2022</td>\n",
       "      <td>Torrent Pharma (TORP)</td>\n",
       "      <td>2:1</td>\n",
       "    </tr>\n",
       "    <tr>\n",
       "      <th>1</th>\n",
       "      <td>Jun 30, 2022</td>\n",
       "      <td>Indian Oil (IOC)</td>\n",
       "      <td>1.5:1</td>\n",
       "    </tr>\n",
       "    <tr>\n",
       "      <th>2</th>\n",
       "      <td>Jan 06, 2022</td>\n",
       "      <td>SBI Gold (SBIG)</td>\n",
       "      <td>100:1</td>\n",
       "    </tr>\n",
       "    <tr>\n",
       "      <th>4</th>\n",
       "      <td>Dec 16, 2021</td>\n",
       "      <td>Quantum Gold (QTGF)</td>\n",
       "      <td>50:1</td>\n",
       "    </tr>\n",
       "    <tr>\n",
       "      <th>5</th>\n",
       "      <td>Dec 16, 2021</td>\n",
       "      <td>Quantum Gold Exchange Traded Scheme (QTGF)</td>\n",
       "      <td>50:1</td>\n",
       "    </tr>\n",
       "  </tbody>\n",
       "</table>\n",
       "</div>"
      ],
      "text/plain": [
       "     Split date                                      Company Split ratio\n",
       "0  Jul 08, 2022                        Torrent Pharma (TORP)         2:1\n",
       "1  Jun 30, 2022                             Indian Oil (IOC)       1.5:1\n",
       "2  Jan 06, 2022                              SBI Gold (SBIG)       100:1\n",
       "4  Dec 16, 2021                          Quantum Gold (QTGF)        50:1\n",
       "5  Dec 16, 2021   Quantum Gold Exchange Traded Scheme (QTGF)        50:1"
      ]
     },
     "execution_count": 86,
     "metadata": {},
     "output_type": "execute_result"
    }
   ],
   "source": [
    "#There are some duplicate rows in this table\n",
    "stock_split.drop_duplicates(inplace = True)\n",
    "stock_split.head()"
   ]
  },
  {
   "cell_type": "markdown",
   "id": "cab6a93f",
   "metadata": {},
   "source": [
    "\n",
    "<div style=\"background-color: #FFFFE0;\">\n",
    "    Removed duplicate rows.\n",
    "</div>"
   ]
  },
  {
   "cell_type": "markdown",
   "id": "a9305441",
   "metadata": {},
   "source": [
    "## Solutions:"
   ]
  },
  {
   "cell_type": "markdown",
   "id": "4412695b",
   "metadata": {},
   "source": [
    "### 1. Which industry has the highest number of stocks or companies listed under Nifty 50?\n",
    "We are not seeing the weightage of any industries since the weightage depends on several parameters which are not in our dataset."
   ]
  },
  {
   "cell_type": "code",
   "execution_count": 11,
   "id": "5b696648",
   "metadata": {},
   "outputs": [
    {
     "data": {
      "text/html": [
       "<div>\n",
       "<style scoped>\n",
       "    .dataframe tbody tr th:only-of-type {\n",
       "        vertical-align: middle;\n",
       "    }\n",
       "\n",
       "    .dataframe tbody tr th {\n",
       "        vertical-align: top;\n",
       "    }\n",
       "\n",
       "    .dataframe thead th {\n",
       "        text-align: right;\n",
       "    }\n",
       "</style>\n",
       "<table border=\"1\" class=\"dataframe\">\n",
       "  <thead>\n",
       "    <tr style=\"text-align: right;\">\n",
       "      <th></th>\n",
       "      <th>Industry</th>\n",
       "      <th>#Companies</th>\n",
       "    </tr>\n",
       "  </thead>\n",
       "  <tbody>\n",
       "    <tr>\n",
       "      <th>0</th>\n",
       "      <td>CONSTRUCTION</td>\n",
       "      <td>1</td>\n",
       "    </tr>\n",
       "    <tr>\n",
       "      <th>1</th>\n",
       "      <td>FERTILISERS &amp; PESTICIDES</td>\n",
       "      <td>1</td>\n",
       "    </tr>\n",
       "    <tr>\n",
       "      <th>2</th>\n",
       "      <td>MEDIA &amp; ENTERTAINMENT</td>\n",
       "      <td>1</td>\n",
       "    </tr>\n",
       "    <tr>\n",
       "      <th>3</th>\n",
       "      <td>SERVICES</td>\n",
       "      <td>1</td>\n",
       "    </tr>\n",
       "    <tr>\n",
       "      <th>4</th>\n",
       "      <td>TELECOM</td>\n",
       "      <td>1</td>\n",
       "    </tr>\n",
       "  </tbody>\n",
       "</table>\n",
       "</div>"
      ],
      "text/plain": [
       "                   Industry  #Companies\n",
       "0              CONSTRUCTION           1\n",
       "1  FERTILISERS & PESTICIDES           1\n",
       "2     MEDIA & ENTERTAINMENT           1\n",
       "3                  SERVICES           1\n",
       "4                   TELECOM           1"
      ]
     },
     "execution_count": 11,
     "metadata": {},
     "output_type": "execute_result"
    }
   ],
   "source": [
    "#Joing stocks table and Category table\n",
    "df_category = pd.merge(df, category, on=\"Symbol\")\n",
    "\n",
    "#Common columns into one\n",
    "df_category['Series'] = df_category['Series_x'].fillna(df_category['Series_y']) \n",
    "df_category = df_category.drop(['Series_x','Series_y'],axis = 1)\n",
    "\n",
    "#Group by Industries\n",
    "count_stocks = (df_category.groupby([\"Industry\"], as_index=False)          \n",
    "    .agg({\"Symbol\": pd.Series.nunique})\n",
    "    .sort_values(\"Symbol\", ascending=True)\n",
    ").reset_index(drop=True)\n",
    "\n",
    "#rename_columns\n",
    "count_stocks.rename(columns = {'Symbol':'#Companies'}, inplace = True)\n",
    "count_stocks.head()"
   ]
  },
  {
   "cell_type": "code",
   "execution_count": 17,
   "id": "c20e3afb",
   "metadata": {},
   "outputs": [
    {
     "data": {
      "image/png": "[encoded data removed]",
      "text/plain": [
       "<Figure size 640x480 with 1 Axes>"
      ]
     },
     "metadata": {},
     "output_type": "display_data"
    }
   ],
   "source": [
    "import matplotlib.pyplot as plt\n",
    "\n",
    "plt.style.use(\"ggplot\")                     #Selecting the style for charts\n",
    "x = count_stocks[\"Industry\"]\n",
    "y = count_stocks[\"#Companies\"]\n",
    "plt.barh(x, y)\n",
    "plt.gca().set(\n",
    "    xlabel=\"Count of Companies\", ylabel=\"Industry\", title=\"#Companies in Nifty 50\"           \n",
    ")\n",
    "\n",
    "[plt.text(y[i], x[i], j, ha=\"left\", va=\"center\") for i, j in enumerate(y)]           #Adding data labels in bars\n",
    "\n",
    "plt.show()\n"
   ]
  },
  {
   "cell_type": "markdown",
   "id": "83af3350",
   "metadata": {},
   "source": [
    "[Back to top](#Danny's-Diner-Case-Study:)"
   ]
  },
  {
   "cell_type": "markdown",
   "id": "e0d4e9ee",
   "metadata": {},
   "source": [
    "Personally, I am a big fan of banking stocks so let's see how these stocks have done over the past years."
   ]
  },
  {
   "cell_type": "markdown",
   "id": "23052529",
   "metadata": {},
   "source": [
    "### 2. Historical Performance of any Banking stock(s)?"
   ]
  },
  {
   "cell_type": "code",
   "execution_count": 12,
   "id": "dc385d70",
   "metadata": {
    "scrolled": false
   },
   "outputs": [
    {
     "data": {
      "text/plain": [
       "array(['Axis Bank Ltd.', 'Bajaj Finserv Ltd.', 'Bajaj Finance Ltd.',\n",
       "       'Housing Development Finance Corporation Ltd.', 'HDFC Bank Ltd.',\n",
       "       'ICICI Bank Ltd.', 'IndusInd Bank Ltd.',\n",
       "       'Kotak Mahindra Bank Ltd.', 'State Bank of India'], dtype=object)"
      ]
     },
     "execution_count": 12,
     "metadata": {},
     "output_type": "execute_result"
    }
   ],
   "source": [
    "df_fin = df_category.loc[df_category['Industry'] == \"FINANCIAL SERVICES\"].reset_index(drop=True)\n",
    "df_fin['Company Name'].unique()"
   ]
  },
  {
   "cell_type": "code",
   "execution_count": 60,
   "id": "f2beb4a7",
   "metadata": {},
   "outputs": [
    {
     "data": {
      "image/png": "[encoded data removed]",
      "text/plain": [
       "<Figure size 640x480 with 1 Axes>"
      ]
     },
     "metadata": {},
     "output_type": "display_data"
    }
   ],
   "source": [
    "df_fin_Indus, df_fin_SBI  = df_fin.loc[df_fin['Company Name'] == 'IndusInd Bank Ltd.'], df_fin.loc[df_fin['Company Name'] == 'HDFC Bank Ltd.']\n",
    "x1, y1 = df_fin_Indus['Date'], df_fin_Indus['Close']\n",
    "x2,y2 = df_fin_SBI['Date'], df_fin_SBI['Close']\n",
    "plt.plot(x1,y1,color = 'orange',label = 'IndusInd Bank')\n",
    "plt.plot(x2,y2,color = 'blue', label = 'SBI Bank')\n",
    "plt.gca().set(\n",
    "    xlabel=\"Date\", ylabel=\"Share Price (INR)\", title=\"SBI vs IndusInd Bank Share Price\")\n",
    "plt.legend()\n",
    "plt.show()\n"
   ]
  },
  {
   "cell_type": "markdown",
   "id": "4149b3be",
   "metadata": {},
   "source": [
    "- At around 2012 SBI bank shares had a share split.\n",
    "- In Mar 2020, the big depression is due to the Corona Virus."
   ]
  },
  {
   "cell_type": "markdown",
   "id": "5d621eb3",
   "metadata": {},
   "source": [
    "### 2. How many shares had gone through share split in the past?"
   ]
  },
  {
   "cell_type": "code",
   "execution_count": 94,
   "id": "711fc3a5",
   "metadata": {},
   "outputs": [
    {
     "data": {
      "text/html": [
       "<div>\n",
       "<style scoped>\n",
       "    .dataframe tbody tr th:only-of-type {\n",
       "        vertical-align: middle;\n",
       "    }\n",
       "\n",
       "    .dataframe tbody tr th {\n",
       "        vertical-align: top;\n",
       "    }\n",
       "\n",
       "    .dataframe thead th {\n",
       "        text-align: right;\n",
       "    }\n",
       "</style>\n",
       "<table border=\"1\" class=\"dataframe\">\n",
       "  <thead>\n",
       "    <tr style=\"text-align: right;\">\n",
       "      <th></th>\n",
       "      <th>Company Name</th>\n",
       "      <th>Industry</th>\n",
       "      <th>Symbol</th>\n",
       "      <th>Series</th>\n",
       "      <th>ISIN Code</th>\n",
       "      <th>Split date</th>\n",
       "      <th>Company</th>\n",
       "      <th>Split ratio</th>\n",
       "    </tr>\n",
       "  </thead>\n",
       "  <tbody>\n",
       "    <tr>\n",
       "      <th>0</th>\n",
       "      <td>Bharat Petroleum Corporation Ltd.</td>\n",
       "      <td>ENERGY</td>\n",
       "      <td>BPCL</td>\n",
       "      <td>EQ</td>\n",
       "      <td>INE029A01011</td>\n",
       "      <td>2017-07-13</td>\n",
       "      <td>Bharat Petroleum (BPCL)</td>\n",
       "      <td>1.5:1</td>\n",
       "    </tr>\n",
       "    <tr>\n",
       "      <th>1</th>\n",
       "      <td>Bharat Petroleum Corporation Ltd.</td>\n",
       "      <td>ENERGY</td>\n",
       "      <td>BPCL</td>\n",
       "      <td>EQ</td>\n",
       "      <td>INE029A01011</td>\n",
       "      <td>2016-07-13</td>\n",
       "      <td>Bharat Petroleum (BPCL)</td>\n",
       "      <td>2:1</td>\n",
       "    </tr>\n",
       "    <tr>\n",
       "      <th>2</th>\n",
       "      <td>Bharat Petroleum Corporation Ltd.</td>\n",
       "      <td>ENERGY</td>\n",
       "      <td>BPCL</td>\n",
       "      <td>EQ</td>\n",
       "      <td>INE029A01011</td>\n",
       "      <td>2012-07-13</td>\n",
       "      <td>Bharat Petroleum (BPCL)</td>\n",
       "      <td>2:1</td>\n",
       "    </tr>\n",
       "    <tr>\n",
       "      <th>3</th>\n",
       "      <td>Bharat Petroleum Corporation Ltd.</td>\n",
       "      <td>ENERGY</td>\n",
       "      <td>BPCL</td>\n",
       "      <td>EQ</td>\n",
       "      <td>INE029A01011</td>\n",
       "      <td>2000-12-18</td>\n",
       "      <td>Bharat Petroleum (BPCL)</td>\n",
       "      <td>2:1</td>\n",
       "    </tr>\n",
       "    <tr>\n",
       "      <th>4</th>\n",
       "      <td>GAIL (India) Ltd.</td>\n",
       "      <td>ENERGY</td>\n",
       "      <td>GAIL</td>\n",
       "      <td>EQ</td>\n",
       "      <td>INE129A01019</td>\n",
       "      <td>2019-07-09</td>\n",
       "      <td>GAIL Ltd (GAIL)</td>\n",
       "      <td>2:1</td>\n",
       "    </tr>\n",
       "  </tbody>\n",
       "</table>\n",
       "</div>"
      ],
      "text/plain": [
       "                        Company Name Industry Symbol Series     ISIN Code  \\\n",
       "0  Bharat Petroleum Corporation Ltd.   ENERGY   BPCL     EQ  INE029A01011   \n",
       "1  Bharat Petroleum Corporation Ltd.   ENERGY   BPCL     EQ  INE029A01011   \n",
       "2  Bharat Petroleum Corporation Ltd.   ENERGY   BPCL     EQ  INE029A01011   \n",
       "3  Bharat Petroleum Corporation Ltd.   ENERGY   BPCL     EQ  INE029A01011   \n",
       "4                  GAIL (India) Ltd.   ENERGY   GAIL     EQ  INE129A01019   \n",
       "\n",
       "  Split date                   Company Split ratio  \n",
       "0 2017-07-13   Bharat Petroleum (BPCL)       1.5:1  \n",
       "1 2016-07-13   Bharat Petroleum (BPCL)         2:1  \n",
       "2 2012-07-13   Bharat Petroleum (BPCL)         2:1  \n",
       "3 2000-12-18   Bharat Petroleum (BPCL)         2:1  \n",
       "4 2019-07-09           GAIL Ltd (GAIL)         2:1  "
      ]
     },
     "execution_count": 94,
     "metadata": {},
     "output_type": "execute_result"
    }
   ],
   "source": [
    "nifty_stocks_split = pd.merge(category,stock_split, on = 'Symbol', how = 'inner')\n",
    "\n",
    "nifty_stocks_split.head()"
   ]
  },
  {
   "cell_type": "code",
   "execution_count": 96,
   "id": "835e4591",
   "metadata": {},
   "outputs": [
    {
     "data": {
      "text/html": [
       "<div>\n",
       "<style scoped>\n",
       "    .dataframe tbody tr th:only-of-type {\n",
       "        vertical-align: middle;\n",
       "    }\n",
       "\n",
       "    .dataframe tbody tr th {\n",
       "        vertical-align: top;\n",
       "    }\n",
       "\n",
       "    .dataframe thead th {\n",
       "        text-align: right;\n",
       "    }\n",
       "</style>\n",
       "<table border=\"1\" class=\"dataframe\">\n",
       "  <thead>\n",
       "    <tr style=\"text-align: right;\">\n",
       "      <th></th>\n",
       "      <th>Symbol</th>\n",
       "      <th>Company Name</th>\n",
       "      <th># Splits</th>\n",
       "    </tr>\n",
       "  </thead>\n",
       "  <tbody>\n",
       "    <tr>\n",
       "      <th>0</th>\n",
       "      <td>BPCL</td>\n",
       "      <td>Bharat Petroleum Corporation Ltd.</td>\n",
       "      <td>4</td>\n",
       "    </tr>\n",
       "    <tr>\n",
       "      <th>1</th>\n",
       "      <td>GAIL</td>\n",
       "      <td>GAIL (India) Ltd.</td>\n",
       "      <td>4</td>\n",
       "    </tr>\n",
       "    <tr>\n",
       "      <th>2</th>\n",
       "      <td>HDFC</td>\n",
       "      <td>Housing Development Finance Corporation Ltd.</td>\n",
       "      <td>2</td>\n",
       "    </tr>\n",
       "    <tr>\n",
       "      <th>3</th>\n",
       "      <td>INFY</td>\n",
       "      <td>Infosys Ltd.</td>\n",
       "      <td>5</td>\n",
       "    </tr>\n",
       "    <tr>\n",
       "      <th>4</th>\n",
       "      <td>IOC</td>\n",
       "      <td>Indian Oil Corporation Ltd.</td>\n",
       "      <td>5</td>\n",
       "    </tr>\n",
       "    <tr>\n",
       "      <th>5</th>\n",
       "      <td>ITC</td>\n",
       "      <td>ITC Ltd.</td>\n",
       "      <td>4</td>\n",
       "    </tr>\n",
       "    <tr>\n",
       "      <th>6</th>\n",
       "      <td>NTPC</td>\n",
       "      <td>NTPC Ltd.</td>\n",
       "      <td>1</td>\n",
       "    </tr>\n",
       "    <tr>\n",
       "      <th>7</th>\n",
       "      <td>ONGC</td>\n",
       "      <td>Oil &amp; Natural Gas Corporation Ltd.</td>\n",
       "      <td>3</td>\n",
       "    </tr>\n",
       "    <tr>\n",
       "      <th>8</th>\n",
       "      <td>TCS</td>\n",
       "      <td>Tata Consultancy Services Ltd.</td>\n",
       "      <td>3</td>\n",
       "    </tr>\n",
       "  </tbody>\n",
       "</table>\n",
       "</div>"
      ],
      "text/plain": [
       "  Symbol                                  Company Name  # Splits\n",
       "0   BPCL             Bharat Petroleum Corporation Ltd.         4\n",
       "1   GAIL                             GAIL (India) Ltd.         4\n",
       "2   HDFC  Housing Development Finance Corporation Ltd.         2\n",
       "3   INFY                                  Infosys Ltd.         5\n",
       "4    IOC                   Indian Oil Corporation Ltd.         5\n",
       "5    ITC                                      ITC Ltd.         4\n",
       "6   NTPC                                     NTPC Ltd.         1\n",
       "7   ONGC            Oil & Natural Gas Corporation Ltd.         3\n",
       "8    TCS                Tata Consultancy Services Ltd.         3"
      ]
     },
     "execution_count": 96,
     "metadata": {},
     "output_type": "execute_result"
    }
   ],
   "source": [
    "nifty_stocks_split.groupby([\"Symbol\",\"Company Name\"],as_index = False)['Split date'].count().rename(columns = {'Split date':'# Splits'})"
   ]
  },
  {
   "cell_type": "code",
   "execution_count": 116,
   "id": "baa49627",
   "metadata": {},
   "outputs": [
    {
     "data": {
      "text/html": [
       "<div>\n",
       "<style scoped>\n",
       "    .dataframe tbody tr th:only-of-type {\n",
       "        vertical-align: middle;\n",
       "    }\n",
       "\n",
       "    .dataframe tbody tr th {\n",
       "        vertical-align: top;\n",
       "    }\n",
       "\n",
       "    .dataframe thead th {\n",
       "        text-align: right;\n",
       "    }\n",
       "</style>\n",
       "<table border=\"1\" class=\"dataframe\">\n",
       "  <thead>\n",
       "    <tr style=\"text-align: right;\">\n",
       "      <th></th>\n",
       "      <th>Split date</th>\n",
       "      <th>Company</th>\n",
       "      <th>Split ratio</th>\n",
       "      <th>Symbol</th>\n",
       "    </tr>\n",
       "  </thead>\n",
       "  <tbody>\n",
       "    <tr>\n",
       "      <th>55</th>\n",
       "      <td>2019-09-19</td>\n",
       "      <td>HDFC Bank (HDBK)</td>\n",
       "      <td>2:1</td>\n",
       "      <td>HDBK</td>\n",
       "    </tr>\n",
       "    <tr>\n",
       "      <th>134</th>\n",
       "      <td>2011-07-14</td>\n",
       "      <td>HDFC Bank (HDBK)</td>\n",
       "      <td>5:1</td>\n",
       "      <td>HDBK</td>\n",
       "    </tr>\n",
       "  </tbody>\n",
       "</table>\n",
       "</div>"
      ],
      "text/plain": [
       "    Split date            Company Split ratio Symbol\n",
       "55  2019-09-19   HDFC Bank (HDBK)         2:1   HDBK\n",
       "134 2011-07-14   HDFC Bank (HDBK)         5:1   HDBK"
      ]
     },
     "execution_count": 116,
     "metadata": {},
     "output_type": "execute_result"
    }
   ],
   "source": [
    "stock_split.loc[stock_split['Symbol'] == 'HDBK']"
   ]
  },
  {
   "cell_type": "code",
   "execution_count": 113,
   "id": "8401e629",
   "metadata": {},
   "outputs": [
    {
     "data": {
      "text/plain": [
       "<bound method DataFrame.drop_duplicates of                                          Company Symbol\n",
       "0                          Torrent Pharma (TORP)   TORP\n",
       "1                               Indian Oil (IOC)    IOC\n",
       "2                                SBI Gold (SBIG)   SBIG\n",
       "4                            Quantum Gold (QTGF)   QTGF\n",
       "5     Quantum Gold Exchange Traded Scheme (QTGF)   QTGF\n",
       "..                                           ...    ...\n",
       "227                      Bharat Petroleum (BPCL)   BPCL\n",
       "228                           Dabur India (DABU)   DABU\n",
       "229                              HCL Tech (HCLT)   HCLT\n",
       "230                          Asian Paints (ASPN)   ASPN\n",
       "231                     Hindustan Unilever (HLL)    HLL\n",
       "\n",
       "[217 rows x 2 columns]>"
      ]
     },
     "execution_count": 113,
     "metadata": {},
     "output_type": "execute_result"
    }
   ],
   "source": [
    "stock_split[['Company','Symbol']].drop_duplicates"
   ]
  },
  {
   "cell_type": "code",
   "execution_count": 114,
   "id": "95d2e040",
   "metadata": {},
   "outputs": [
    {
     "data": {
      "text/html": [
       "<div>\n",
       "<style scoped>\n",
       "    .dataframe tbody tr th:only-of-type {\n",
       "        vertical-align: middle;\n",
       "    }\n",
       "\n",
       "    .dataframe tbody tr th {\n",
       "        vertical-align: top;\n",
       "    }\n",
       "\n",
       "    .dataframe thead th {\n",
       "        text-align: right;\n",
       "    }\n",
       "</style>\n",
       "<table border=\"1\" class=\"dataframe\">\n",
       "  <thead>\n",
       "    <tr style=\"text-align: right;\">\n",
       "      <th></th>\n",
       "      <th>Company Name</th>\n",
       "      <th>Industry</th>\n",
       "      <th>Symbol</th>\n",
       "      <th>Series</th>\n",
       "      <th>ISIN Code</th>\n",
       "    </tr>\n",
       "  </thead>\n",
       "  <tbody>\n",
       "    <tr>\n",
       "      <th>17</th>\n",
       "      <td>HDFC Bank Ltd.</td>\n",
       "      <td>FINANCIAL SERVICES</td>\n",
       "      <td>HDFCBANK</td>\n",
       "      <td>EQ</td>\n",
       "      <td>INE040A01034</td>\n",
       "    </tr>\n",
       "  </tbody>\n",
       "</table>\n",
       "</div>"
      ],
      "text/plain": [
       "      Company Name            Industry    Symbol Series     ISIN Code\n",
       "17  HDFC Bank Ltd.  FINANCIAL SERVICES  HDFCBANK     EQ  INE040A01034"
      ]
     },
     "execution_count": 114,
     "metadata": {},
     "output_type": "execute_result"
    }
   ],
   "source": [
    "category.loc[category['Symbol'] == 'HDFCBANK']"
   ]
  },
  {
   "cell_type": "code",
   "execution_count": null,
   "id": "a0d7151f",
   "metadata": {},
   "outputs": [],
   "source": []
  }
 ],
 "metadata": {
  "kernelspec": {
   "display_name": "Python 3 (ipykernel)",
   "language": "python",
   "name": "python3"
  },
  "language_info": {
   "codemirror_mode": {
    "name": "ipython",
    "version": 3
   },
   "file_extension": ".py",
   "mimetype": "text/x-python",
   "name": "python",
   "nbconvert_exporter": "python",
   "pygments_lexer": "ipython3",
   "version": "3.9.13"
  }
 },
 "nbformat": 4,
 "nbformat_minor": 5
}
