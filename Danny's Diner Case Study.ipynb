{
 "cells": [
  {
   "cell_type": "markdown",
   "id": "3cc44589",
   "metadata": {},
   "source": [
    "# Danny's Diner Case Study:\n",
    "\n",
    "1. [What is the total amount each customer spent at the restaurant?](#1.-What-is-the-total-amount-each-customer-spent-at-the-restaurant?)<br/><br/>\n",
    "\n",
    "2. [How many days has each customer visited the restaurant?](#2.-How-many-days-has-each-customer-visited-the-restaurant?)\n",
    "<br/><br/>\n",
    "3. [What was the first item from the menu purchased by each customer?](#3.-What-was-the-first-item-from-the-menu-purchased-by-each-customer?)\n",
    "<br/><br/>\n",
    "4. [What is the most purchased item on the menu and how many times was it purchased by all customers?](#4.-What-is-the-most-purchased-item-on-the-menu-and-how-many-times-was-it-purchased-by-all-customers?)\n",
    "<br/><br/>\n",
    "5. [Which item was the most popular for each customer?](#5.-Which-item-was-the-most-popular-for-each-customer?)\n",
    "<br/><br/>\n",
    "6. [Which item was purchased first by the customer after they became a member?](#6.-Which-item-was-purchased-first-by-the-customer-after-they-became-a-member?)\n",
    "<br/><br/>\n",
    "7. [Which item was purchased just before the customer became a member?](#7.-Which-item-was-purchased-just-before-the-customer-became-a-member?)\n",
    "<br/><br/>\n",
    "8. [What is the total items and amount spent for each member before they became a member?](#8.-What-is-the-total-items-and-amount-spent-for-each-member-before-they-became-a-member?)\n",
    "<br/><br/>\n",
    "9. [If each dollar 1 spent equates to 10 points and sushi has a 2x points multiplier - how many points would each customer have?](#9.-If-each-dollar-1-spent-equates-to-10-points-and-sushi-has-a-2x-points-multiplier---how-many-points-would-each-customer-have?)\n",
    "<br/><br/>\n",
    "10. [In the first week after a customer joins the program (including their join date) they earn 2x points on all items, not just sushi - how many points do customer A and B have at the end of January?](#10.-In-the-first-week-after-a-customer-joins-the-program-(including-their-join-date)-they-earn-2x-points-on-all-items,-not-just-sushi---how-many-points-do-customer-A-and-B-have-at-the-end-of-January?)"
   ]
  },
  {
   "cell_type": "markdown",
   "id": "1dd669b2",
   "metadata": {},
   "source": [
    "## Raw data:\n",
    "\n",
    "The dataset have 3 tables: sales, menu and members"
   ]
  },
  {
   "cell_type": "markdown",
   "id": "fa7210fd",
   "metadata": {},
   "source": [
    "### Entity Relationship Diagram"
   ]
  },
  {
   "attachments": {
    "Danny's%20Diner.png": {
     "image/png": "[encoded data removed]"
    }
   },
   "cell_type": "markdown",
   "id": "5bfcde99",
   "metadata": {},
   "source": [
    "![Danny's%20Diner.png](attachment:Danny's%20Diner.png)"
   ]
  },
  {
   "cell_type": "markdown",
   "id": "648d2611",
   "metadata": {},
   "source": [
    "### Creating Tables"
   ]
  },
  {
   "cell_type": "code",
   "execution_count": 1,
   "id": "71b05cc3",
   "metadata": {},
   "outputs": [],
   "source": [
    "%reload_ext sql"
   ]
  },
  {
   "cell_type": "code",
   "execution_count": 2,
   "id": "60848e69",
   "metadata": {},
   "outputs": [],
   "source": [
    "%sql sqlite://"
   ]
  },
  {
   "cell_type": "code",
   "execution_count": 3,
   "id": "39609ffb",
   "metadata": {
    "collapsed": true
   },
   "outputs": [
    {
     "name": "stdout",
     "output_type": "stream",
     "text": [
      " * sqlite://\n",
      "Done.\n",
      "15 rows affected.\n",
      "Done.\n",
      "3 rows affected.\n",
      "Done.\n",
      "2 rows affected.\n"
     ]
    },
    {
     "data": {
      "text/plain": [
       "[]"
      ]
     },
     "execution_count": 3,
     "metadata": {},
     "output_type": "execute_result"
    }
   ],
   "source": [
    "%%sql \n",
    "CREATE TABLE sales (\n",
    "  \"customer_id\" VARCHAR(1),\n",
    "  \"order_date\" DATE,\n",
    "  \"product_id\" INTEGER\n",
    ");\n",
    "\n",
    "INSERT INTO sales\n",
    "  (\"customer_id\", \"order_date\", \"product_id\")\n",
    "VALUES\n",
    "  ('A', '2021-01-01', '1'),\n",
    "  ('A', '2021-01-01', '2'),\n",
    "  ('A', '2021-01-07', '2'),\n",
    "  ('A', '2021-01-10', '3'),\n",
    "  ('A', '2021-01-11', '3'),\n",
    "  ('A', '2021-01-11', '3'),\n",
    "  ('B', '2021-01-01', '2'),\n",
    "  ('B', '2021-01-02', '2'),\n",
    "  ('B', '2021-01-04', '1'),\n",
    "  ('B', '2021-01-11', '1'),\n",
    "  ('B', '2021-01-16', '3'),\n",
    "  ('B', '2021-02-01', '3'),\n",
    "  ('C', '2021-01-01', '3'),\n",
    "  ('C', '2021-01-01', '3'),\n",
    "  ('C', '2021-01-07', '3');\n",
    " \n",
    "\n",
    "CREATE TABLE menu (\n",
    "  \"product_id\" INTEGER,\n",
    "  \"product_name\" VARCHAR(5),\n",
    "  \"price\" INTEGER\n",
    ");\n",
    "\n",
    "INSERT INTO menu\n",
    "  (\"product_id\", \"product_name\", \"price\")\n",
    "VALUES\n",
    "  ('1', 'sushi', '10'),\n",
    "  ('2', 'curry', '15'),\n",
    "  ('3', 'ramen', '12');\n",
    "  \n",
    "\n",
    "CREATE TABLE members (\n",
    "  \"customer_id\" VARCHAR(1),\n",
    "  \"join_date\" DATE\n",
    ");\n",
    "\n",
    "INSERT INTO members\n",
    "  (\"customer_id\", \"join_date\")\n",
    "VALUES\n",
    "  ('A', '2021-01-07'),\n",
    "  ('B', '2021-01-09');\n"
   ]
  },
  {
   "cell_type": "markdown",
   "id": "de482ab4",
   "metadata": {},
   "source": [
    "[Back to top](#Danny's-Diner-Case-Study:)"
   ]
  },
  {
   "cell_type": "markdown",
   "id": "a9305441",
   "metadata": {},
   "source": [
    "## Solutions:"
   ]
  },
  {
   "cell_type": "markdown",
   "id": "4412695b",
   "metadata": {},
   "source": [
    "### 1. What is the total amount each customer spent at the restaurant?"
   ]
  },
  {
   "cell_type": "code",
   "execution_count": 10,
   "id": "5b696648",
   "metadata": {},
   "outputs": [
    {
     "name": "stdout",
     "output_type": "stream",
     "text": [
      " * sqlite://\n",
      "Done.\n"
     ]
    },
    {
     "data": {
      "text/html": [
       "<table>\n",
       "    <thead>\n",
       "        <tr>\n",
       "            <th>customer_id</th>\n",
       "            <th>amount_spent</th>\n",
       "        </tr>\n",
       "    </thead>\n",
       "    <tbody>\n",
       "        <tr>\n",
       "            <td>A</td>\n",
       "            <td>76</td>\n",
       "        </tr>\n",
       "        <tr>\n",
       "            <td>B</td>\n",
       "            <td>74</td>\n",
       "        </tr>\n",
       "        <tr>\n",
       "            <td>C</td>\n",
       "            <td>36</td>\n",
       "        </tr>\n",
       "    </tbody>\n",
       "</table>"
      ],
      "text/plain": [
       "[('A', 76), ('B', 74), ('C', 36)]"
      ]
     },
     "execution_count": 10,
     "metadata": {},
     "output_type": "execute_result"
    }
   ],
   "source": [
    "%%sql\n",
    "\n",
    "SELECT s.customer_id,\n",
    "       Sum(m.price) AS amount_spent\n",
    "FROM   sales s\n",
    "       JOIN menu m\n",
    "         ON s.product_id = m.product_id\n",
    "GROUP  BY 1\n",
    "ORDER  BY 1;"
   ]
  },
  {
   "cell_type": "markdown",
   "id": "83af3350",
   "metadata": {},
   "source": [
    "[Back to top](#Danny's-Diner-Case-Study:)"
   ]
  },
  {
   "cell_type": "markdown",
   "id": "23052529",
   "metadata": {},
   "source": [
    "### 2. How many days has each customer visited the restaurant?"
   ]
  },
  {
   "cell_type": "code",
   "execution_count": 15,
   "id": "dc385d70",
   "metadata": {},
   "outputs": [
    {
     "name": "stdout",
     "output_type": "stream",
     "text": [
      " * sqlite://\n",
      "Done.\n"
     ]
    },
    {
     "data": {
      "text/html": [
       "<table>\n",
       "    <thead>\n",
       "        <tr>\n",
       "            <th>customer_id</th>\n",
       "            <th>days_visited</th>\n",
       "        </tr>\n",
       "    </thead>\n",
       "    <tbody>\n",
       "        <tr>\n",
       "            <td>A</td>\n",
       "            <td>4</td>\n",
       "        </tr>\n",
       "        <tr>\n",
       "            <td>B</td>\n",
       "            <td>6</td>\n",
       "        </tr>\n",
       "        <tr>\n",
       "            <td>C</td>\n",
       "            <td>2</td>\n",
       "        </tr>\n",
       "    </tbody>\n",
       "</table>"
      ],
      "text/plain": [
       "[('A', 4), ('B', 6), ('C', 2)]"
      ]
     },
     "execution_count": 15,
     "metadata": {},
     "output_type": "execute_result"
    }
   ],
   "source": [
    "%%sql\n",
    "\n",
    "SELECT customer_id,\n",
    "       Count(DISTINCT( order_date )) AS days_visited\n",
    "FROM   sales\n",
    "GROUP  BY 1\n",
    "ORDER  BY 1"
   ]
  },
  {
   "cell_type": "markdown",
   "id": "dd725ac5",
   "metadata": {},
   "source": [
    "[Back to top](#Danny's-Diner-Case-Study:)"
   ]
  },
  {
   "cell_type": "markdown",
   "id": "61815f7e",
   "metadata": {},
   "source": [
    "### 3. What was the first item from the menu purchased by each customer?\n",
    "Item bought first by each customer on each day"
   ]
  },
  {
   "cell_type": "code",
   "execution_count": 35,
   "id": "08a005c4",
   "metadata": {},
   "outputs": [
    {
     "name": "stdout",
     "output_type": "stream",
     "text": [
      " * sqlite://\n",
      "Done.\n"
     ]
    },
    {
     "data": {
      "text/html": [
       "<table>\n",
       "    <thead>\n",
       "        <tr>\n",
       "            <th>order_date</th>\n",
       "            <th>customer_id</th>\n",
       "            <th>product_name</th>\n",
       "        </tr>\n",
       "    </thead>\n",
       "    <tbody>\n",
       "        <tr>\n",
       "            <td>2021-01-01</td>\n",
       "            <td>A</td>\n",
       "            <td>sushi</td>\n",
       "        </tr>\n",
       "        <tr>\n",
       "            <td>2021-01-01</td>\n",
       "            <td>B</td>\n",
       "            <td>curry</td>\n",
       "        </tr>\n",
       "        <tr>\n",
       "            <td>2021-01-01</td>\n",
       "            <td>C</td>\n",
       "            <td>ramen</td>\n",
       "        </tr>\n",
       "        <tr>\n",
       "            <td>2021-01-02</td>\n",
       "            <td>B</td>\n",
       "            <td>curry</td>\n",
       "        </tr>\n",
       "        <tr>\n",
       "            <td>2021-01-04</td>\n",
       "            <td>B</td>\n",
       "            <td>sushi</td>\n",
       "        </tr>\n",
       "        <tr>\n",
       "            <td>2021-01-07</td>\n",
       "            <td>A</td>\n",
       "            <td>curry</td>\n",
       "        </tr>\n",
       "        <tr>\n",
       "            <td>2021-01-07</td>\n",
       "            <td>C</td>\n",
       "            <td>ramen</td>\n",
       "        </tr>\n",
       "        <tr>\n",
       "            <td>2021-01-10</td>\n",
       "            <td>A</td>\n",
       "            <td>ramen</td>\n",
       "        </tr>\n",
       "        <tr>\n",
       "            <td>2021-01-11</td>\n",
       "            <td>A</td>\n",
       "            <td>ramen</td>\n",
       "        </tr>\n",
       "        <tr>\n",
       "            <td>2021-01-11</td>\n",
       "            <td>B</td>\n",
       "            <td>sushi</td>\n",
       "        </tr>\n",
       "        <tr>\n",
       "            <td>2021-01-16</td>\n",
       "            <td>B</td>\n",
       "            <td>ramen</td>\n",
       "        </tr>\n",
       "        <tr>\n",
       "            <td>2021-02-01</td>\n",
       "            <td>B</td>\n",
       "            <td>ramen</td>\n",
       "        </tr>\n",
       "    </tbody>\n",
       "</table>"
      ],
      "text/plain": [
       "[('2021-01-01', 'A', 'sushi'),\n",
       " ('2021-01-01', 'B', 'curry'),\n",
       " ('2021-01-01', 'C', 'ramen'),\n",
       " ('2021-01-02', 'B', 'curry'),\n",
       " ('2021-01-04', 'B', 'sushi'),\n",
       " ('2021-01-07', 'A', 'curry'),\n",
       " ('2021-01-07', 'C', 'ramen'),\n",
       " ('2021-01-10', 'A', 'ramen'),\n",
       " ('2021-01-11', 'A', 'ramen'),\n",
       " ('2021-01-11', 'B', 'sushi'),\n",
       " ('2021-01-16', 'B', 'ramen'),\n",
       " ('2021-02-01', 'B', 'ramen')]"
      ]
     },
     "execution_count": 35,
     "metadata": {},
     "output_type": "execute_result"
    }
   ],
   "source": [
    "%%sql\n",
    "\n",
    "WITH sales_ranked\n",
    "     AS (SELECT *,\n",
    "                Row_number()\n",
    "                  OVER(\n",
    "                    partition BY customer_id, order_date\n",
    "                    ORDER BY order_date) AS rank_order\n",
    "         FROM   sales)\n",
    "SELECT s.order_date,\n",
    "       s.customer_id,\n",
    "       m.product_name\n",
    "FROM   sales_ranked s\n",
    "       LEFT JOIN menu m\n",
    "              ON s.product_id = m.product_id\n",
    "WHERE  s.rank_order = 1\n",
    "ORDER  BY 1,\n",
    "          2 "
   ]
  },
  {
   "cell_type": "markdown",
   "id": "570374df",
   "metadata": {},
   "source": [
    "[Back to top](#Danny's-Diner-Case-Study:)"
   ]
  },
  {
   "cell_type": "markdown",
   "id": "fcaed157",
   "metadata": {},
   "source": [
    "### 4. What is the most purchased item on the menu and how many times was it purchased by all customers?\n",
    "One should not use \"order by 1 desc limit 1\" since multiple items can be bought the most times."
   ]
  },
  {
   "cell_type": "code",
   "execution_count": 43,
   "id": "2b72e6f6",
   "metadata": {
    "scrolled": true
   },
   "outputs": [
    {
     "name": "stdout",
     "output_type": "stream",
     "text": [
      " * sqlite://\n",
      "Done.\n"
     ]
    },
    {
     "data": {
      "text/html": [
       "<table>\n",
       "    <thead>\n",
       "        <tr>\n",
       "            <th>product_name</th>\n",
       "            <th>times_bought</th>\n",
       "        </tr>\n",
       "    </thead>\n",
       "    <tbody>\n",
       "        <tr>\n",
       "            <td>ramen</td>\n",
       "            <td>8</td>\n",
       "        </tr>\n",
       "    </tbody>\n",
       "</table>"
      ],
      "text/plain": [
       "[('ramen', 8)]"
      ]
     },
     "execution_count": 43,
     "metadata": {},
     "output_type": "execute_result"
    }
   ],
   "source": [
    "%%sql\n",
    "\n",
    "WITH items_bought\n",
    "     AS (SELECT m.product_name,\n",
    "                Count(s.product_id)                    AS times_bought,\n",
    "                Rank()\n",
    "                  OVER(\n",
    "                    ORDER BY Count(s.product_id) DESC) AS rank\n",
    "         FROM   sales s\n",
    "                JOIN menu m\n",
    "                  ON s.product_id = m.product_id\n",
    "         GROUP  BY 1)\n",
    "SELECT product_name,\n",
    "       times_bought\n",
    "FROM   items_bought\n",
    "WHERE  rank = 1"
   ]
  },
  {
   "cell_type": "markdown",
   "id": "cda37ee6",
   "metadata": {},
   "source": [
    "[Back to top](#Danny's-Diner-Case-Study:)"
   ]
  },
  {
   "cell_type": "markdown",
   "id": "9a8c10fc",
   "metadata": {},
   "source": [
    "### 5. Which item was the most popular for each customer?\n",
    "Most popular means most bought item by a customer"
   ]
  },
  {
   "cell_type": "code",
   "execution_count": 51,
   "id": "df8a0908",
   "metadata": {},
   "outputs": [
    {
     "name": "stdout",
     "output_type": "stream",
     "text": [
      " * sqlite://\n",
      "Done.\n"
     ]
    },
    {
     "data": {
      "text/html": [
       "<table>\n",
       "    <thead>\n",
       "        <tr>\n",
       "            <th>customer_id</th>\n",
       "            <th>product_name</th>\n",
       "            <th>times_bought</th>\n",
       "        </tr>\n",
       "    </thead>\n",
       "    <tbody>\n",
       "        <tr>\n",
       "            <td>A</td>\n",
       "            <td>ramen</td>\n",
       "            <td>3</td>\n",
       "        </tr>\n",
       "        <tr>\n",
       "            <td>B</td>\n",
       "            <td>sushi</td>\n",
       "            <td>2</td>\n",
       "        </tr>\n",
       "        <tr>\n",
       "            <td>B</td>\n",
       "            <td>ramen</td>\n",
       "            <td>2</td>\n",
       "        </tr>\n",
       "        <tr>\n",
       "            <td>B</td>\n",
       "            <td>curry</td>\n",
       "            <td>2</td>\n",
       "        </tr>\n",
       "        <tr>\n",
       "            <td>C</td>\n",
       "            <td>ramen</td>\n",
       "            <td>3</td>\n",
       "        </tr>\n",
       "    </tbody>\n",
       "</table>"
      ],
      "text/plain": [
       "[('A', 'ramen', 3),\n",
       " ('B', 'sushi', 2),\n",
       " ('B', 'ramen', 2),\n",
       " ('B', 'curry', 2),\n",
       " ('C', 'ramen', 3)]"
      ]
     },
     "execution_count": 51,
     "metadata": {},
     "output_type": "execute_result"
    }
   ],
   "source": [
    "%%sql\n",
    "\n",
    "WITH ranked_products_bought\n",
    "     AS (SELECT s.customer_id,\n",
    "                m.product_name,\n",
    "                Count(s.product_id)                    AS times_bought,\n",
    "                Rank()\n",
    "                  OVER(\n",
    "                    partition BY s.customer_id\n",
    "                    ORDER BY Count(s.product_id) DESC) AS rank\n",
    "         FROM   sales s\n",
    "                LEFT JOIN menu m\n",
    "                       ON s.product_id = m.product_id\n",
    "         GROUP  BY 1,\n",
    "                   2)\n",
    "SELECT customer_id,\n",
    "       product_name,\n",
    "       times_bought\n",
    "FROM   ranked_products_bought\n",
    "WHERE  rank = 1\n",
    "ORDER  BY 1;"
   ]
  },
  {
   "cell_type": "markdown",
   "id": "68edd24c",
   "metadata": {},
   "source": [
    "[Back to top](#Danny's-Diner-Case-Study:)"
   ]
  },
  {
   "cell_type": "markdown",
   "id": "ab603c62",
   "metadata": {},
   "source": [
    "### 6. Which item was purchased first by the customer after they became a member?"
   ]
  },
  {
   "cell_type": "code",
   "execution_count": 59,
   "id": "430b411f",
   "metadata": {},
   "outputs": [
    {
     "name": "stdout",
     "output_type": "stream",
     "text": [
      " * sqlite://\n",
      "Done.\n"
     ]
    },
    {
     "data": {
      "text/html": [
       "<table>\n",
       "    <thead>\n",
       "        <tr>\n",
       "            <th>customer_id</th>\n",
       "            <th>product_name</th>\n",
       "            <th>join_date</th>\n",
       "            <th>order_date</th>\n",
       "        </tr>\n",
       "    </thead>\n",
       "    <tbody>\n",
       "        <tr>\n",
       "            <td>A</td>\n",
       "            <td>curry</td>\n",
       "            <td>2021-01-07</td>\n",
       "            <td>2021-01-07</td>\n",
       "        </tr>\n",
       "        <tr>\n",
       "            <td>B</td>\n",
       "            <td>sushi</td>\n",
       "            <td>2021-01-09</td>\n",
       "            <td>2021-01-11</td>\n",
       "        </tr>\n",
       "    </tbody>\n",
       "</table>"
      ],
      "text/plain": [
       "[('A', 'curry', '2021-01-07', '2021-01-07'),\n",
       " ('B', 'sushi', '2021-01-09', '2021-01-11')]"
      ]
     },
     "execution_count": 59,
     "metadata": {},
     "output_type": "execute_result"
    }
   ],
   "source": [
    "%%sql\n",
    "\n",
    "WITH ranked_items_bought\n",
    "     AS (SELECT s.customer_id,\n",
    "                m1.product_name,\n",
    "                m.join_date,\n",
    "                s.order_date,\n",
    "                Rank()\n",
    "                  OVER(\n",
    "                    partition BY s.customer_id\n",
    "                    ORDER BY order_date) AS rank\n",
    "         FROM   sales s\n",
    "                RIGHT JOIN members m\n",
    "                        ON s.customer_id = m.customer_id\n",
    "                           AND s.order_date >= m.join_date\n",
    "                JOIN menu m1\n",
    "                  ON s.product_id = m1.product_id)\n",
    "SELECT customer_id,\n",
    "       product_name,\n",
    "       join_date,\n",
    "       order_date\n",
    "FROM   ranked_items_bought\n",
    "WHERE  rank = 1"
   ]
  },
  {
   "cell_type": "markdown",
   "id": "b278339b",
   "metadata": {},
   "source": [
    "[Back to top](#Danny's-Diner-Case-Study:)"
   ]
  },
  {
   "cell_type": "markdown",
   "id": "7aae43c6",
   "metadata": {},
   "source": [
    "### 7. Which item was purchased just before the customer became a member?"
   ]
  },
  {
   "cell_type": "code",
   "execution_count": 65,
   "id": "71e11bba",
   "metadata": {},
   "outputs": [
    {
     "name": "stdout",
     "output_type": "stream",
     "text": [
      " * sqlite://\n",
      "Done.\n"
     ]
    },
    {
     "data": {
      "text/html": [
       "<table>\n",
       "    <thead>\n",
       "        <tr>\n",
       "            <th>customer_id</th>\n",
       "            <th>product_name</th>\n",
       "            <th>join_date</th>\n",
       "            <th>order_date</th>\n",
       "        </tr>\n",
       "    </thead>\n",
       "    <tbody>\n",
       "        <tr>\n",
       "            <td>A</td>\n",
       "            <td>sushi</td>\n",
       "            <td>2021-01-07</td>\n",
       "            <td>2021-01-01</td>\n",
       "        </tr>\n",
       "        <tr>\n",
       "            <td>A</td>\n",
       "            <td>curry</td>\n",
       "            <td>2021-01-07</td>\n",
       "            <td>2021-01-01</td>\n",
       "        </tr>\n",
       "        <tr>\n",
       "            <td>B</td>\n",
       "            <td>sushi</td>\n",
       "            <td>2021-01-09</td>\n",
       "            <td>2021-01-04</td>\n",
       "        </tr>\n",
       "    </tbody>\n",
       "</table>"
      ],
      "text/plain": [
       "[('A', 'sushi', '2021-01-07', '2021-01-01'),\n",
       " ('A', 'curry', '2021-01-07', '2021-01-01'),\n",
       " ('B', 'sushi', '2021-01-09', '2021-01-04')]"
      ]
     },
     "execution_count": 65,
     "metadata": {},
     "output_type": "execute_result"
    }
   ],
   "source": [
    "%%sql\n",
    "\n",
    "WITH ranked_items_bought\n",
    "     AS (SELECT s.customer_id,\n",
    "                m1.product_name,\n",
    "                m.join_date,\n",
    "                s.order_date,\n",
    "                Rank()\n",
    "                  OVER(\n",
    "                    partition BY s.customer_id\n",
    "                    ORDER BY order_date DESC) AS rank\n",
    "         FROM   sales s\n",
    "                RIGHT JOIN members m\n",
    "                        ON s.customer_id = m.customer_id\n",
    "                           AND s.order_date < m.join_date\n",
    "                JOIN menu m1\n",
    "                  ON s.product_id = m1.product_id)\n",
    "SELECT customer_id,\n",
    "       product_name,\n",
    "       join_date,\n",
    "       order_date\n",
    "FROM   ranked_items_bought\n",
    "WHERE  rank = 1 "
   ]
  },
  {
   "cell_type": "markdown",
   "id": "764decc7",
   "metadata": {},
   "source": [
    "[Back to top](#Danny's-Diner-Case-Study:)"
   ]
  },
  {
   "cell_type": "markdown",
   "id": "4e277abb",
   "metadata": {},
   "source": [
    "### 8. What is the total items and amount spent for each member before they became a member?"
   ]
  },
  {
   "cell_type": "code",
   "execution_count": 67,
   "id": "65782c5f",
   "metadata": {},
   "outputs": [
    {
     "name": "stdout",
     "output_type": "stream",
     "text": [
      " * sqlite://\n",
      "Done.\n"
     ]
    },
    {
     "data": {
      "text/html": [
       "<table>\n",
       "    <thead>\n",
       "        <tr>\n",
       "            <th>customer_id</th>\n",
       "            <th>total_items</th>\n",
       "            <th>amount_spent</th>\n",
       "        </tr>\n",
       "    </thead>\n",
       "    <tbody>\n",
       "        <tr>\n",
       "            <td>A</td>\n",
       "            <td>2</td>\n",
       "            <td>25</td>\n",
       "        </tr>\n",
       "        <tr>\n",
       "            <td>B</td>\n",
       "            <td>3</td>\n",
       "            <td>40</td>\n",
       "        </tr>\n",
       "    </tbody>\n",
       "</table>"
      ],
      "text/plain": [
       "[('A', 2, 25), ('B', 3, 40)]"
      ]
     },
     "execution_count": 67,
     "metadata": {},
     "output_type": "execute_result"
    }
   ],
   "source": [
    "%%sql\n",
    "\n",
    "SELECT s.customer_id,\n",
    "       Count(s.product_id) AS total_items,\n",
    "       Sum(m1.price)       AS amount_spent\n",
    "FROM   sales s\n",
    "       RIGHT JOIN members m\n",
    "               ON s.customer_id = m.customer_id\n",
    "                  AND s.order_date < m.join_date\n",
    "       JOIN menu m1\n",
    "         ON s.product_id = m1.product_id\n",
    "GROUP  BY 1"
   ]
  },
  {
   "cell_type": "markdown",
   "id": "2df7c2a5",
   "metadata": {},
   "source": [
    "[Back to top](#Danny's-Diner-Case-Study:)"
   ]
  },
  {
   "cell_type": "markdown",
   "id": "a2f5cbe0",
   "metadata": {},
   "source": [
    "### 9. If each dollar 1 spent equates to 10 points and sushi has a 2x points multiplier - how many points would each customer have?"
   ]
  },
  {
   "cell_type": "code",
   "execution_count": 118,
   "id": "02b01a3b",
   "metadata": {},
   "outputs": [
    {
     "name": "stdout",
     "output_type": "stream",
     "text": [
      " * sqlite://\n",
      "Done.\n"
     ]
    },
    {
     "data": {
      "text/html": [
       "<table>\n",
       "    <thead>\n",
       "        <tr>\n",
       "            <th>customer_id</th>\n",
       "            <th>total_points</th>\n",
       "        </tr>\n",
       "    </thead>\n",
       "    <tbody>\n",
       "        <tr>\n",
       "            <td>A</td>\n",
       "            <td>860</td>\n",
       "        </tr>\n",
       "        <tr>\n",
       "            <td>B</td>\n",
       "            <td>940</td>\n",
       "        </tr>\n",
       "        <tr>\n",
       "            <td>C</td>\n",
       "            <td>360</td>\n",
       "        </tr>\n",
       "    </tbody>\n",
       "</table>"
      ],
      "text/plain": [
       "[('A', 860), ('B', 940), ('C', 360)]"
      ]
     },
     "execution_count": 118,
     "metadata": {},
     "output_type": "execute_result"
    }
   ],
   "source": [
    "%%sql\n",
    "\n",
    "SELECT s.customer_id,\n",
    "       Sum(CASE\n",
    "             WHEN m.product_name = \"sushi\" THEN m.price * 20\n",
    "             ELSE m.price * 10\n",
    "           END) AS total_points\n",
    "FROM   sales s\n",
    "       JOIN menu m\n",
    "         ON s.product_id = m.product_id\n",
    "GROUP  BY 1 "
   ]
  },
  {
   "cell_type": "markdown",
   "id": "9251ebc3",
   "metadata": {},
   "source": [
    "[Back to top](#Danny's-Diner-Case-Study:)"
   ]
  },
  {
   "cell_type": "markdown",
   "id": "e886c263",
   "metadata": {},
   "source": [
    "### 10. In the first week after a customer joins the program (including their join date) they earn 2x points on all items, not just sushi - how many points do customer A and B have at the end of January?"
   ]
  },
  {
   "cell_type": "code",
   "execution_count": 117,
   "id": "bd9f0e25",
   "metadata": {},
   "outputs": [
    {
     "name": "stdout",
     "output_type": "stream",
     "text": [
      " * sqlite://\n",
      "Done.\n"
     ]
    },
    {
     "data": {
      "text/html": [
       "<table>\n",
       "    <thead>\n",
       "        <tr>\n",
       "            <th>customer_id</th>\n",
       "            <th>total_points</th>\n",
       "        </tr>\n",
       "    </thead>\n",
       "    <tbody>\n",
       "        <tr>\n",
       "            <td>A</td>\n",
       "            <td>1370</td>\n",
       "        </tr>\n",
       "        <tr>\n",
       "            <td>B</td>\n",
       "            <td>820</td>\n",
       "        </tr>\n",
       "    </tbody>\n",
       "</table>"
      ],
      "text/plain": [
       "[('A', 1370), ('B', 820)]"
      ]
     },
     "execution_count": 117,
     "metadata": {},
     "output_type": "execute_result"
    }
   ],
   "source": [
    "%%sql\n",
    "\n",
    "SELECT s.customer_id,\n",
    "       Sum(CASE\n",
    "             WHEN ( s.order_date BETWEEN join_date AND Date(join_date, '+6 days'\n",
    "                                                       ) )\n",
    "                   OR m1.product_name = \"sushi\" THEN m1.price * 20\n",
    "             ELSE m1.price * 10\n",
    "           END) AS total_points\n",
    "FROM   sales s\n",
    "       LEFT JOIN members m\n",
    "              ON s.customer_id = m.customer_id\n",
    "       JOIN menu m1\n",
    "         ON s.product_id = m1.product_id\n",
    "WHERE  s.customer_id IN ( \"A\", \"B\" )\n",
    "       AND s.order_date <= '2021-01-31'\n",
    "GROUP  BY 1"
   ]
  },
  {
   "cell_type": "markdown",
   "id": "538c863d",
   "metadata": {},
   "source": [
    "[Back to top](#Danny's-Diner-Case-Study:)"
   ]
  }
 ],
 "metadata": {
  "kernelspec": {
   "display_name": "Python 3 (ipykernel)",
   "language": "python",
   "name": "python3"
  },
  "language_info": {
   "codemirror_mode": {
    "name": "ipython",
    "version": 3
   },
   "file_extension": ".py",
   "mimetype": "text/x-python",
   "name": "python",
   "nbconvert_exporter": "python",
   "pygments_lexer": "ipython3",
   "version": "3.11.3"
  }
 },
 "nbformat": 4,
 "nbformat_minor": 5
}
